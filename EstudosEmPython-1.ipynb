{
 "cells": [
  {
   "cell_type": "markdown",
   "metadata": {},
   "source": [
    "ESTUDOS EM PYTHON - I\n",
    "Marcos Munis ( @MMunis / marcosmunis@gmail.com )"
   ]
  },
  {
   "cell_type": "code",
   "execution_count": 5,
   "metadata": {
    "scrolled": false
   },
   "outputs": [
    {
     "name": "stdout",
     "output_type": "stream",
     "text": [
      "----------------------------------------------------\n"
     ]
    },
    {
     "data": {
      "image/png": "[encoded data removed]",
      "text/plain": [
       "<matplotlib.figure.Figure at 0x1fc7068db70>"
      ]
     },
     "metadata": {},
     "output_type": "display_data"
    },
    {
     "data": {
      "image/png": "[encoded data removed]",
      "text/plain": [
       "<matplotlib.figure.Figure at 0x1fc706fceb8>"
      ]
     },
     "metadata": {},
     "output_type": "display_data"
    },
    {
     "name": "stdout",
     "output_type": "stream",
     "text": [
      "----------------------------------------------------\n"
     ]
    }
   ],
   "source": [
    "# -*- coding: utf-8 -*-\n",
    "\n",
    "\n",
    "'''\n",
    "import simply\n",
    "import simply  as      sy\n",
    "from   sympy   import  *\n",
    "from   symply  import  solve, sin, pi\n",
    "'''\n",
    "\n",
    "import math\n",
    "import sympy\n",
    "import pylab\n",
    "import random\n",
    "import numpy                as np\n",
    "import matplotlib.pyplot    as plt\n",
    "import matplotlib.patches   as patches\n",
    "import matplotlib.path      as path\n",
    "import matplotlib.animation as animation\n",
    "\n",
    "\n",
    "from sympy       import solve, sin, limit, Poly, Eq, Function, exp, cos, tan, pi\n",
    "from sympy.abc   import x, y, z, a, b\n",
    "\n",
    "\n",
    "print( '----------------------------------------------------' )\n",
    "\n",
    "plt.plot([1, 2, 3, 4], [1, 4, 9, 16])\n",
    "plt.show()\n",
    "\n",
    "plt.plot([1,2,3,4], [1,4,9,16], 'ro' )\n",
    "plt.axis([0, 6, 0, 20])\n",
    "plt.show()\n",
    "\n",
    "print ( '----------------------------------------------------' )"
   ]
  }
 ],
 "metadata": {
  "kernelspec": {
   "display_name": "Python 3",
   "language": "python",
   "name": "python3"
  },
  "language_info": {
   "codemirror_mode": {
    "name": "ipython",
    "version": 3
   },
   "file_extension": ".py",
   "mimetype": "text/x-python",
   "name": "python",
   "nbconvert_exporter": "python",
   "pygments_lexer": "ipython3",
   "version": "3.6.2"
  }
 },
 "nbformat": 4,
 "nbformat_minor": 2
}
